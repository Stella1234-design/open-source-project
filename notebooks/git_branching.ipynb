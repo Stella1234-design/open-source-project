{
 "cells": [
  {
   "cell_type": "markdown",
   "id": "0ff7b136",
   "metadata": {},
   "source": [
    "# Git practice: committing"
   ]
  },
  {
   "cell_type": "markdown",
   "id": "73e5334c",
   "metadata": {},
   "source": [
    "| Task | Time (min) |\n",
    "|------|------------|\n",
    "|  1   |     5      |\n",
    "|  2   |     10     |\n",
    "|  3   |     15     |\n",
    "|  4   |     15     |\n",
    "|  5   |     10     |\n"
   ]
  },
  {
   "cell_type": "markdown",
   "id": "92b5e0f0",
   "metadata": {},
   "source": [
    "## Task 1/5: Clone the repository\n",
    "\n",
    "In this part, we work with an existing project. To download the example, open the `Git bash` (which should start at ``W:>``, your personal directory on the file server), and run the following commands:\n",
    "\n",
    "```shell\n",
    "git clone https://github.com/CoLRev-Environment/colrev\n",
    "cd colrev                     # Enter the directory of the colrev project\n",
    "```\n",
    "\n",
    "**Check**: The clone command should print something like the following (with different numbers):\n",
    "\n",
    "```\n",
    "Cloning into 'colrev'...\n",
    "remote: Counting objects: 100% (125/125), done.\n",
    "remote: Total 22225 (delta 41), reused 54 (delta 27), pack-reused 22100\n",
    "Receiving objects: 100% (22225/22225), 10.11 MiB | 2.37 MiB/s, done.\n",
    "Resolving deltas: 100% (18519/18519), done.\n",
    "```\n",
    "**Note**: You do not have to enter the explanation after the hashtag (#). To create an empty git project, you would run ``git init``.\n"
   ]
  },
  {
   "cell_type": "markdown",
   "id": "56475418",
   "metadata": {},
   "source": [
    "With this notebook, you can practice committing changes in Git.\n",
    "\n",
    "To work locally, you can download the [notebooks](https://download-directory.github.io/?url=https%3A%2F%2Fgithub.com%2Fdigital-work-lab%2Fopen-source-project%2Ftree%2Fmain%2Fnotebooks)\n",
    "\n",
    "In the following, we explain each step..."
   ]
  },
  {
   "cell_type": "markdown",
   "id": "b7f24260",
   "metadata": {},
   "source": [
    "<img src=\"img/screenshot.png\" width=\"800\"/>"
   ]
  },
  {
   "cell_type": "markdown",
   "id": "e2f1214c",
   "metadata": {},
   "source": [
    "Run the following commands:\n",
    "\n",
    "```\n",
    "git init\n",
    "```"
   ]
  },
  {
   "cell_type": "markdown",
   "id": "55c59f90",
   "metadata": {},
   "source": [
    "- ..."
   ]
  },
  {
   "cell_type": "markdown",
   "id": "faccbfd6",
   "metadata": {},
   "source": [
    "## TODO and open questions\n",
    "\n",
    "- Add \"challenge\" sections\n",
    "- Explanations (how to open the right shell)"
   ]
  }
 ],
 "metadata": {
  "kernelspec": {
   "display_name": "Python 3 (ipykernel)",
   "language": "python",
   "name": "python3"
  },
  "language_info": {
   "codemirror_mode": {
    "name": "ipython",
    "version": 3
   },
   "file_extension": ".py",
   "mimetype": "text/x-python",
   "name": "python",
   "nbconvert_exporter": "python",
   "pygments_lexer": "ipython3",
   "version": "3.8.10"
  }
 },
 "nbformat": 4,
 "nbformat_minor": 5
}
