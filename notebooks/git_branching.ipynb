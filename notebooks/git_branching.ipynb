{
 "cells": [
  {
   "cell_type": "markdown",
   "id": "0ff7b136",
   "metadata": {},
   "source": [
    "# Git practice: committing"
   ]
  },
  {
   "cell_type": "markdown",
   "id": "56475418",
   "metadata": {},
   "source": [
    "With this notebook, you can practice committing changes in Git.\n",
    "\n",
    "To work locally, you can download the [notebooks](https://download-directory.github.io/?url=https%3A%2F%2Fgithub.com%2Fdigital-work-lab%2Fopen-source-project%2Ftree%2Fmain%2Fnotebooks)\n",
    "\n",
    "In the following, we explain each step..."
   ]
  },
  {
   "cell_type": "markdown",
   "id": "b7f24260",
   "metadata": {},
   "source": [
    "<img src=\"img/screenshot.png\" width=\"800\"/>"
   ]
  },
  {
   "cell_type": "markdown",
   "id": "e2f1214c",
   "metadata": {},
   "source": [
    "Run the following commands:\n",
    "\n",
    "```\n",
    "git init\n",
    "```"
   ]
  },
  {
   "cell_type": "markdown",
   "id": "55c59f90",
   "metadata": {},
   "source": [
    "Challenge (if you completed the previous tasks):\n",
    "- ..."
   ]
  }
 ],
 "metadata": {
  "kernelspec": {
   "display_name": "Python 3 (ipykernel)",
   "language": "python",
   "name": "python3"
  },
  "language_info": {
   "codemirror_mode": {
    "name": "ipython",
    "version": 3
   },
   "file_extension": ".py",
   "mimetype": "text/x-python",
   "name": "python",
   "nbconvert_exporter": "python",
   "pygments_lexer": "ipython3",
   "version": "3.8.10"
  }
 },
 "nbformat": 4,
 "nbformat_minor": 5
}
